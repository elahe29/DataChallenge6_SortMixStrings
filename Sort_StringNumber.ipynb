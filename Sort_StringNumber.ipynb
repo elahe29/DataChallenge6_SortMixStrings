{
 "cells": [
  {
   "cell_type": "markdown",
   "metadata": {},
   "source": [
    "# Sorted: CS Coding Challenge\n",
    "\n",
    "Write a program that takes a list of strings containing integers and words and returns a sorted version of the list. The goal is to sort this list in such a way that all words are in alphabetical order and all integers are in numerical order. Furthermore, if the nth element in the list is an integer it must remain an integer, and if it is a word it must remain a word. \n",
    "\n",
    "In addition, the strings and integers may contain characters that are ascii symbols that neither belong to letter set nor digit set (i.e. \"#\", \"%\", \";\", etc). You are required to remove them during the process so that the output will contain only letters or digits. For example, if a string is \"sym*bo+l\", the output should be \"symbol\". If an integer is \"12%3\", the output should be \"123\". You don't have to worry about strings or integers that contain only non-letter-non-digit characters, like \"^!?\", \"&\", etc.\n"
   ]
  },
  {
   "cell_type": "code",
   "execution_count": 10,
   "metadata": {
    "collapsed": true
   },
   "outputs": [],
   "source": [
    "#remove non-letter and non-didgit charcters\n",
    "#some other built in functions:\n",
    "#''.join(e for e in string_element if e.isalnum())\n",
    "#s.isalnum() check if all values are number or alphabetic ... that \n",
    "#join command doesn't keep spaces either\n",
    "#''.join(e for e in string_element if (e.isalnum() or e.isspace()))\n",
    "\n",
    "####The best way to do that was using the library regex\n",
    "#import re\n",
    "#string_element = [re.sub('[^A-Za-z0-9]+', '', word) for word in string_element]\n",
    "def clean_str(string_element):\n",
    "    element_chars = list(string_element)\n",
    "    for char in element_chars:\n",
    "        if not (char.isdigit() or char.isalpha()) :\n",
    "            element_chars.remove(char)\n",
    "    edited_str = ''.join(element_chars)\n",
    "    return edited_str\n"
   ]
  },
  {
   "cell_type": "code",
   "execution_count": 11,
   "metadata": {
    "collapsed": false
   },
   "outputs": [],
   "source": [
    "def break_to_word_int_list(input_string):\n",
    "    parsed_input = input_string.split()\n",
    "    \n",
    "    #we decide what categries each element are belonged to ints or words\n",
    "    #in this proccess first we clean each element \n",
    "    #to remove non-letter and non-didgit charcters\n",
    "    \n",
    "    ints_list = []\n",
    "    words_list = []\n",
    "    order_word_int = []\n",
    "    #word = w int = n\n",
    "    for string_element in parsed_input:\n",
    "\n",
    "        edited_str = clean_str(string_element)\n",
    "        \n",
    "        if edited_str.isdigit():\n",
    "            ints_list.append(int(edited_str))\n",
    "            order_word_int.append('n')\n",
    "        else:\n",
    "            words_list.append(edited_str)\n",
    "            order_word_int.append('w')\n",
    "    return words_list,ints_list,order_word_int"
   ]
  },
  {
   "cell_type": "code",
   "execution_count": 12,
   "metadata": {
    "collapsed": false
   },
   "outputs": [],
   "source": [
    "#### The above was breaking the function and testing with a sample \n",
    "#the real reasing-writing function is as follows\n",
    "\n",
    "def sort_string(input_string):\n",
    "\n",
    "    [words_list,ints_list,order_word_int] = break_to_word_int_list(input_string)\n",
    "    sorted_words_list = sorted(words_list)\n",
    "    sorted_ints_list = sorted(ints_list)\n",
    "\n",
    "    final_sorted_list = []\n",
    "    for word_int in order_word_int:\n",
    "        if word_int == 'w':\n",
    "            final_sorted_list.append(sorted_words_list[0])\n",
    "            sorted_words_list.remove(sorted_words_list[0])\n",
    "        else:\n",
    "            final_sorted_list.append(str(sorted_ints_list[0]))\n",
    "            sorted_ints_list.remove(sorted_ints_list[0])\n",
    "\n",
    "    sorted_string =' '.join(final_sorted_list)\n",
    "    print 'sorted string = ',sorted_string\n",
    "    return(sorted_string)"
   ]
  },
  {
   "cell_type": "code",
   "execution_count": 13,
   "metadata": {
    "collapsed": true
   },
   "outputs": [],
   "source": [
    "#if we wanted to keep the order of indexs\n",
    "#sorted_words_list = words_vocab.items()\n",
    "#sorted_words_list.sort(key = lambda item: item[1])"
   ]
  },
  {
   "cell_type": "code",
   "execution_count": 14,
   "metadata": {
    "collapsed": false
   },
   "outputs": [],
   "source": [
    "#Read input string\n",
    "def read_string(file_name):\n",
    "    if file_name:\n",
    "        in_file = open(file_name,'r')\n",
    "    else:\n",
    "        print 'File '+file_name+' does not exist'\n",
    "        return None\n",
    "    #in_file.read() reads all the text file into text\n",
    "    #in_file.readlines() reads all the text file into a list of lines\n",
    "    input_string_list = in_file.readlines()\n",
    "    # you may also want to remove whitespace characters like `\\n` at the end of each line\n",
    "    input_string_list = [x.strip() for x in input_string_list] \n",
    "    return input_string_list\n"
   ]
  },
  {
   "cell_type": "code",
   "execution_count": 15,
   "metadata": {
    "collapsed": true
   },
   "outputs": [],
   "source": [
    "def write_output(output_filename,input_string_list):\n",
    "    if output_filename:\n",
    "        out_file = open(output_filename,'w')\n",
    "        if not input_string_list:\n",
    "            print 'No valid input.'\n",
    "            #### deal with empty case\n",
    "            if teststr == '':\n",
    "                return ''\n",
    "        for input_string in input_string_list:\n",
    "            print 'Input String = ',input_string\n",
    "            sorted_string = sort_string(input_string)\n",
    "            #Write output string\n",
    "\n",
    "            out_file.write(sorted_string)\n",
    "            out_file.write(' ')\n",
    "            print '---------------------------------------------'\n",
    "        out_file.close()\n",
    "    else:\n",
    "        print 'File ' +output_filename+ ' does not exist.'"
   ]
  },
  {
   "cell_type": "code",
   "execution_count": 16,
   "metadata": {
    "collapsed": false
   },
   "outputs": [],
   "source": [
    "#Read each string and write into results.txt\n",
    "def main_sort(input_,output_):\n",
    "    input_string_list = read_string(input_)\n",
    "    write_output(output_,input_string_list)\n",
    "    "
   ]
  },
  {
   "cell_type": "markdown",
   "metadata": {
    "collapsed": true
   },
   "source": [
    "# Analysis\n",
    "\n",
    "My implementation runs in **O(nlog(n)) time**, where 'n' scales with the number of characters processed. By extension, this scales with the size of the input file.Specifically, both the string and integer sub-lists are **sorted**, and this is the limiting factor for time complexity. \n",
    "\n",
    "\n",
    "For space complexity, my code is approximately **O(m) space** where 'm' is the length of the longest individual string processed by my code. In a file, this would be the longest line. In the worst case, the entire input file could be a single (very long) line.\n",
    "\n",
    "\n",
    "#### How to improve:\n",
    "The algorithm would be more efficient if I had built the chars and ints arrays in a sorted manner instead of first building charcter lists for words and integers. It means I can use **insersion sort algorithm**  and everytime find the correct place for the characted in the the list."
   ]
  },
  {
   "cell_type": "markdown",
   "metadata": {
    "collapsed": true
   },
   "source": [
    "# Test Suit"
   ]
  },
  {
   "cell_type": "code",
   "execution_count": 19,
   "metadata": {
    "collapsed": false
   },
   "outputs": [
    {
     "name": "stdout",
     "output_type": "stream",
     "text": [
      "Input String =  Cerulean Azure Blue cerulean blue azure\n",
      "sorted string =  Azure Blue Cerulean azure blue cerulean\n",
      "---------------------------------------------\n",
      "Input String =  1 11 111 2 22 222\n",
      "sorted string =  1 2 11 22 111 222\n",
      "---------------------------------------------\n",
      "Input String =  20 cat bi?rd 12 do@g\n",
      "sorted string =  12 bird cat 20 dog\n",
      "---------------------------------------------\n",
      "True\n"
     ]
    }
   ],
   "source": [
    "import filecmp\n",
    "main_sort('test.txt','result.txt')\n",
    "t = filecmp.cmp('result.txt', 'output_test.txt')\n",
    "\n",
    "print(t)"
   ]
  },
  {
   "cell_type": "code",
   "execution_count": 4,
   "metadata": {
    "collapsed": false
   },
   "outputs": [
    {
     "name": "stderr",
     "output_type": "stream",
     "text": [
      "E\n",
      "======================================================================\n",
      "ERROR: test_sort_alphanum (__main__.CleanTestCase)\n",
      "----------------------------------------------------------------------\n",
      "Traceback (most recent call last):\n",
      "  File \"<ipython-input-4-c52ebc9b14f1>\", line 9, in test_sort_alphanum\n",
      "    print sort_string(input_str)\n",
      "NameError: global name 'sort_string' is not defined\n",
      "\n",
      "----------------------------------------------------------------------\n",
      "Ran 1 test in 0.001s\n",
      "\n",
      "FAILED (errors=1)\n"
     ]
    }
   ],
   "source": [
    "import unittest\n",
    "\n",
    "class CleanTestCase(unittest.TestCase):\n",
    "    \"\"\"Tests for `sortiline`.\"\"\"\n",
    "\n",
    "    def test_sort_alphanum(self):\n",
    "        input_str='20 cat bi?rd 12 do@g'\n",
    "        expected_output = '12 bird cat 20 dog'\n",
    "        print sort_string(input_str)\n",
    "        self.assertEqual(sort_string(input_str), expected_output)\n",
    "\n",
    "if __name__ == '__main__':\n",
    "    # FOR JUPYTER RUN unittest.main() LIKE BELOW\n",
    "    unittest.main(argv=['first-arg-is-ignored'], exit=False)"
   ]
  },
  {
   "cell_type": "code",
   "execution_count": null,
   "metadata": {
    "collapsed": true
   },
   "outputs": [],
   "source": []
  }
 ],
 "metadata": {
  "kernelspec": {
   "display_name": "Python 2",
   "language": "python",
   "name": "python2"
  },
  "language_info": {
   "codemirror_mode": {
    "name": "ipython",
    "version": 2
   },
   "file_extension": ".py",
   "mimetype": "text/x-python",
   "name": "python",
   "nbconvert_exporter": "python",
   "pygments_lexer": "ipython2",
   "version": "2.7.12"
  }
 },
 "nbformat": 4,
 "nbformat_minor": 2
}
